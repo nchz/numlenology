{
 "cells": [
  {
   "cell_type": "markdown",
   "id": "2d206692",
   "metadata": {},
   "source": [
    "https://www.worldometers.info/geography/flags-of-the-world/\n",
    "\n",
    "http://www.lingoes.net/en/translator/langcode.htm\n",
    "\n",
    "https://www.loc.gov/standards/iso639-2/php/code_list.php\n"
   ]
  },
  {
   "cell_type": "code",
   "execution_count": 1,
   "id": "acbc4e66-7fb7-4449-a542-711df317e462",
   "metadata": {},
   "outputs": [],
   "source": [
    "from io import BytesIO\n",
    "\n",
    "import requests\n",
    "from lxml import etree\n",
    "from IPython.display import display, Image\n",
    "from PIL import Image as Pim\n",
    "\n",
    "from numlenology import SUPPORTED_LANGS"
   ]
  },
  {
   "cell_type": "markdown",
   "id": "081b24e8-e727-4527-8675-11a9bdeac5fd",
   "metadata": {},
   "source": [
    "# Get name by language code\n",
    "\n",
    "Parse the table from [this web source](https://www.loc.gov/standards/iso639-2/php/code_list.php) to get language names."
   ]
  },
  {
   "cell_type": "code",
   "execution_count": 2,
   "id": "5f9c322a-b9f1-4c17-9bcf-f3088739a7e5",
   "metadata": {},
   "outputs": [
    {
     "name": "stdout",
     "output_type": "stream",
     "text": [
      "No name found for codes: {'dk', 'cz'}\n"
     ]
    }
   ],
   "source": [
    "url = \"https://www.loc.gov/standards/iso639-2/php/code_list.php\"\n",
    "body = requests.get(url).text\n",
    "tree = etree.fromstring(body, parser=etree.HTMLParser())\n",
    "\n",
    "names = {}\n",
    "for row in tree.xpath(\"//table[@border=1]//tr[not(@bgcolor)]\"):\n",
    "    if (code := row.xpath(\"td[2]/text()\")[0].strip()):\n",
    "        name = row.xpath(\"td[3]/text()\")[0].strip()\n",
    "        names[code] = name\n",
    "\n",
    "if (nf := set(SUPPORTED_LANGS) - set(names.keys())):\n",
    "    print(f\"No name found for codes: {nf}\")"
   ]
  },
  {
   "cell_type": "code",
   "execution_count": 3,
   "id": "e92f0488-0755-412c-82d7-e98f7a872ed3",
   "metadata": {},
   "outputs": [],
   "source": [
    "# manual fix.\n",
    "names[\"dk\"] = names[\"da\"]\n",
    "names[\"cz\"] = names[\"cs\"]"
   ]
  },
  {
   "cell_type": "markdown",
   "id": "39cf1173-98a9-404b-bd0f-b8a68c040669",
   "metadata": {},
   "source": [
    "# Get and display flags"
   ]
  },
  {
   "cell_type": "code",
   "execution_count": 4,
   "id": "5384625d-f76b-48a3-aced-a1f4d5fd6f31",
   "metadata": {},
   "outputs": [
    {
     "name": "stdout",
     "output_type": "stream",
     "text": [
      "ar - Arabic\n"
     ]
    },
    {
     "data": {
      "image/png": "[encoded data removed]",
      "text/plain": [
       "<IPython.core.display.Image object>"
      ]
     },
     "metadata": {},
     "output_type": "display_data"
    },
    {
     "name": "stdout",
     "output_type": "stream",
     "text": [
      "\n",
      "cz - Czech\n"
     ]
    },
    {
     "data": {
      "image/png": "[encoded data removed]",
      "text/plain": [
       "<IPython.core.display.Image object>"
      ]
     },
     "metadata": {},
     "output_type": "display_data"
    },
    {
     "name": "stdout",
     "output_type": "stream",
     "text": [
      "\n",
      "de - German\n"
     ]
    },
    {
     "data": {
      "image/png": "[encoded data removed]",
      "text/plain": [
       "<IPython.core.display.Image object>"
      ]
     },
     "metadata": {},
     "output_type": "display_data"
    },
    {
     "name": "stdout",
     "output_type": "stream",
     "text": [
      "\n",
      "dk - Danish\n"
     ]
    },
    {
     "data": {
      "image/png": "[encoded data removed]",
      "text/plain": [
       "<IPython.core.display.Image object>"
      ]
     },
     "metadata": {},
     "output_type": "display_data"
    },
    {
     "name": "stdout",
     "output_type": "stream",
     "text": [
      "\n",
      "en - English\n"
     ]
    },
    {
     "data": {
      "image/png": "[encoded data removed]",
      "text/plain": [
       "<IPython.core.display.Image object>"
      ]
     },
     "metadata": {},
     "output_type": "display_data"
    },
    {
     "name": "stdout",
     "output_type": "stream",
     "text": [
      "\n",
      "es - Spanish; Castilian\n"
     ]
    },
    {
     "data": {
      "image/png": "[encoded data removed]",
      "text/plain": [
       "<IPython.core.display.Image object>"
      ]
     },
     "metadata": {},
     "output_type": "display_data"
    },
    {
     "name": "stdout",
     "output_type": "stream",
     "text": [
      "\n",
      "fi - Finnish\n"
     ]
    },
    {
     "data": {
      "image/png": "[encoded data removed]",
      "text/plain": [
       "<IPython.core.display.Image object>"
      ]
     },
     "metadata": {},
     "output_type": "display_data"
    },
    {
     "name": "stdout",
     "output_type": "stream",
     "text": [
      "\n",
      "fr - French\n"
     ]
    },
    {
     "data": {
      "image/png": "[encoded data removed]",
      "text/plain": [
       "<IPython.core.display.Image object>"
      ]
     },
     "metadata": {},
     "output_type": "display_data"
    },
    {
     "name": "stdout",
     "output_type": "stream",
     "text": [
      "\n",
      "he - Hebrew\n"
     ]
    },
    {
     "data": {
      "image/png": "[encoded data removed]",
      "text/plain": [
       "<IPython.core.display.Image object>"
      ]
     },
     "metadata": {},
     "output_type": "display_data"
    },
    {
     "name": "stdout",
     "output_type": "stream",
     "text": [
      "\n",
      "id - Indonesian\n"
     ]
    },
    {
     "data": {
      "image/png": "[encoded data removed]",
      "text/plain": [
       "<IPython.core.display.Image object>"
      ]
     },
     "metadata": {},
     "output_type": "display_data"
    },
    {
     "name": "stdout",
     "output_type": "stream",
     "text": [
      "\n",
      "it - Italian\n"
     ]
    },
    {
     "data": {
      "image/png": "[encoded data removed]",
      "text/plain": [
       "<IPython.core.display.Image object>"
      ]
     },
     "metadata": {},
     "output_type": "display_data"
    },
    {
     "name": "stdout",
     "output_type": "stream",
     "text": [
      "\n",
      "ja - Japanese\n"
     ]
    },
    {
     "data": {
      "image/png": "[encoded data removed]",
      "text/plain": [
       "<IPython.core.display.Image object>"
      ]
     },
     "metadata": {},
     "output_type": "display_data"
    },
    {
     "name": "stdout",
     "output_type": "stream",
     "text": [
      "\n",
      "kn - Kannada\n"
     ]
    },
    {
     "data": {
      "image/png": "[encoded data removed]",
      "text/plain": [
       "<IPython.core.display.Image object>"
      ]
     },
     "metadata": {},
     "output_type": "display_data"
    },
    {
     "name": "stdout",
     "output_type": "stream",
     "text": [
      "\n",
      "ko - Korean\n"
     ]
    },
    {
     "data": {
      "image/png": "[encoded data removed]",
      "text/plain": [
       "<IPython.core.display.Image object>"
      ]
     },
     "metadata": {},
     "output_type": "display_data"
    },
    {
     "name": "stdout",
     "output_type": "stream",
     "text": [
      "\n",
      "lt - Lithuanian\n"
     ]
    },
    {
     "data": {
      "image/png": "[encoded data removed]",
      "text/plain": [
       "<IPython.core.display.Image object>"
      ]
     },
     "metadata": {},
     "output_type": "display_data"
    },
    {
     "name": "stdout",
     "output_type": "stream",
     "text": [
      "\n",
      "lv - Latvian\n"
     ]
    },
    {
     "data": {
      "image/png": "[encoded data removed]",
      "text/plain": [
       "<IPython.core.display.Image object>"
      ]
     },
     "metadata": {},
     "output_type": "display_data"
    },
    {
     "name": "stdout",
     "output_type": "stream",
     "text": [
      "\n",
      "nl - Dutch; Flemish\n"
     ]
    },
    {
     "data": {
      "image/png": "[encoded data removed]",
      "text/plain": [
       "<IPython.core.display.Image object>"
      ]
     },
     "metadata": {},
     "output_type": "display_data"
    },
    {
     "name": "stdout",
     "output_type": "stream",
     "text": [
      "\n",
      "no - Norwegian\n"
     ]
    },
    {
     "data": {
      "image/png": "[encoded data removed]",
      "text/plain": [
       "<IPython.core.display.Image object>"
      ]
     },
     "metadata": {},
     "output_type": "display_data"
    },
    {
     "name": "stdout",
     "output_type": "stream",
     "text": [
      "\n",
      "pl - Polish\n"
     ]
    },
    {
     "data": {
      "image/png": "[encoded data removed]",
      "text/plain": [
       "<IPython.core.display.Image object>"
      ]
     },
     "metadata": {},
     "output_type": "display_data"
    },
    {
     "name": "stdout",
     "output_type": "stream",
     "text": [
      "\n",
      "pt - Portuguese\n"
     ]
    },
    {
     "data": {
      "image/png": "[encoded data removed]",
      "text/plain": [
       "<IPython.core.display.Image object>"
      ]
     },
     "metadata": {},
     "output_type": "display_data"
    },
    {
     "name": "stdout",
     "output_type": "stream",
     "text": [
      "\n",
      "ro - Romanian; Moldavian; Moldovan\n"
     ]
    },
    {
     "data": {
      "image/png": "[encoded data removed]",
      "text/plain": [
       "<IPython.core.display.Image object>"
      ]
     },
     "metadata": {},
     "output_type": "display_data"
    },
    {
     "name": "stdout",
     "output_type": "stream",
     "text": [
      "\n",
      "ru - Russian\n"
     ]
    },
    {
     "data": {
      "image/png": "[encoded data removed]",
      "text/plain": [
       "<IPython.core.display.Image object>"
      ]
     },
     "metadata": {},
     "output_type": "display_data"
    },
    {
     "name": "stdout",
     "output_type": "stream",
     "text": [
      "\n",
      "sl - Slovenian\n"
     ]
    },
    {
     "data": {
      "image/png": "[encoded data removed]",
      "text/plain": [
       "<IPython.core.display.Image object>"
      ]
     },
     "metadata": {},
     "output_type": "display_data"
    },
    {
     "name": "stdout",
     "output_type": "stream",
     "text": [
      "\n",
      "sr - Serbian\n"
     ]
    },
    {
     "data": {
      "image/png": "[encoded data removed]",
      "text/plain": [
       "<IPython.core.display.Image object>"
      ]
     },
     "metadata": {},
     "output_type": "display_data"
    },
    {
     "name": "stdout",
     "output_type": "stream",
     "text": [
      "\n",
      "th - Thai\n"
     ]
    },
    {
     "data": {
      "image/png": "[encoded data removed]",
      "text/plain": [
       "<IPython.core.display.Image object>"
      ]
     },
     "metadata": {},
     "output_type": "display_data"
    },
    {
     "name": "stdout",
     "output_type": "stream",
     "text": [
      "\n",
      "tr - Turkish\n"
     ]
    },
    {
     "data": {
      "image/png": "[encoded data removed]",
      "text/plain": [
       "<IPython.core.display.Image object>"
      ]
     },
     "metadata": {},
     "output_type": "display_data"
    },
    {
     "name": "stdout",
     "output_type": "stream",
     "text": [
      "\n",
      "uk - Ukrainian\n"
     ]
    },
    {
     "data": {
      "image/png": "[encoded data removed]",
      "text/plain": [
       "<IPython.core.display.Image object>"
      ]
     },
     "metadata": {},
     "output_type": "display_data"
    },
    {
     "name": "stdout",
     "output_type": "stream",
     "text": [
      "\n",
      "vi - Vietnamese\n"
     ]
    },
    {
     "data": {
      "image/png": "[encoded data removed]",
      "text/plain": [
       "<IPython.core.display.Image object>"
      ]
     },
     "metadata": {},
     "output_type": "display_data"
    },
    {
     "name": "stdout",
     "output_type": "stream",
     "text": [
      "\n"
     ]
    }
   ],
   "source": [
    "flags = {\n",
    "    \"ar\": \"https://www.worldometers.info/img/flags/sa-flag.gif\",\n",
    "    \"cz\": \"https://www.worldometers.info/img/flags/ez-flag.gif\",\n",
    "    \"de\": \"https://www.worldometers.info/img/flags/gm-flag.gif\",\n",
    "    \"dk\": \"https://www.worldometers.info/img/flags/da-flag.gif\",\n",
    "    \"en\": \"https://www.worldometers.info/img/flags/uk-flag.gif\",\n",
    "    \"es\": \"https://www.worldometers.info/img/flags/sp-flag.gif\",\n",
    "    \"fi\": \"https://www.worldometers.info/img/flags/fi-flag.gif\",\n",
    "    \"fr\": \"https://www.worldometers.info/img/flags/fr-flag.gif\",\n",
    "    \"he\": \"https://www.worldometers.info/img/flags/is-flag.gif\",\n",
    "    \"id\": \"https://www.worldometers.info/img/flags/id-flag.gif\",\n",
    "    \"it\": \"https://www.worldometers.info/img/flags/it-flag.gif\",\n",
    "    \"ja\": \"https://www.worldometers.info/img/flags/ja-flag.gif\",\n",
    "    \"ko\": \"https://www.worldometers.info/img/flags/ks-flag.gif\",\n",
    "    \"lt\": \"https://www.worldometers.info/img/flags/lh-flag.gif\",\n",
    "    \"lv\": \"https://www.worldometers.info/img/flags/lg-flag.gif\",\n",
    "    \"nl\": \"https://www.worldometers.info/img/flags/nl-flag.gif\",\n",
    "    \"no\": \"https://www.worldometers.info/img/flags/no-flag.gif\",\n",
    "    \"pl\": \"https://www.worldometers.info/img/flags/pl-flag.gif\",\n",
    "    \"pt\": \"https://www.worldometers.info/img/flags/po-flag.gif\",\n",
    "    \"ro\": \"https://www.worldometers.info/img/flags/ro-flag.gif\",\n",
    "    \"ru\": \"https://www.worldometers.info/img/flags/rs-flag.gif\",\n",
    "    \"sl\": \"https://www.worldometers.info/img/flags/si-flag.gif\",\n",
    "    \"sr\": \"https://www.worldometers.info/img/flags/ri-flag.gif\",\n",
    "    \"th\": \"https://www.worldometers.info/img/flags/th-flag.gif\",\n",
    "    \"tr\": \"https://www.worldometers.info/img/flags/tu-flag.gif\",\n",
    "    \"uk\": \"https://www.worldometers.info/img/flags/up-flag.gif\",\n",
    "    \"vi\": \"https://www.worldometers.info/img/flags/vm-flag.gif\",\n",
    "    # \"kn-ce\": \"https://www.worldometers.info/img/flags/ce-flag.gif\",\n",
    "    # \"kn-in\": \"https://www.worldometers.info/img/flags/in-flag.gif\",\n",
    "    # \"kn-np\": \"https://www.worldometers.info/img/flags/np-flag.gif\",\n",
    "    # \"kn-pk\": \"https://www.worldometers.info/img/flags/pk-flag.gif\",\n",
    "    \"kn\": \"https://www.worldometers.info/img/flags/in-flag.gif\",\n",
    "}\n",
    "\n",
    "for code in SUPPORTED_LANGS:\n",
    "    url = flags[code]\n",
    "    r = requests.get(url)\n",
    "    im = Pim.open(BytesIO(r.content))\n",
    "    b = BytesIO()\n",
    "    im.resize((80, 50)).save(b, format=\"png\")\n",
    "    name = names[code]\n",
    "    print(f\"{code} - {name}\")\n",
    "    display(Image(b.getvalue(), format=\"png\"))\n",
    "    print()"
   ]
  }
 ],
 "metadata": {
  "kernelspec": {
   "display_name": "Python 3 (ipykernel)",
   "language": "python",
   "name": "python3"
  },
  "language_info": {
   "codemirror_mode": {
    "name": "ipython",
    "version": 3
   },
   "file_extension": ".py",
   "mimetype": "text/x-python",
   "name": "python",
   "nbconvert_exporter": "python",
   "pygments_lexer": "ipython3",
   "version": "3.9.6"
  }
 },
 "nbformat": 4,
 "nbformat_minor": 5
}
