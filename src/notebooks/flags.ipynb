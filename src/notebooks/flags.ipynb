{
 "cells": [
  {
   "cell_type": "markdown",
   "id": "2d206692",
   "metadata": {},
   "source": [
    "https://www.worldometers.info/geography/flags-of-the-world/\n",
    "\n",
    "http://www.lingoes.net/en/translator/langcode.htm\n"
   ]
  },
  {
   "cell_type": "code",
   "execution_count": 1,
   "id": "a8ee83dd",
   "metadata": {},
   "outputs": [
    {
     "data": {
      "image/png": "[encoded data removed]",
      "text/plain": [
       "<IPython.core.display.Image object>"
      ]
     },
     "execution_count": 1,
     "metadata": {},
     "output_type": "execute_result"
    }
   ],
   "source": [
    "import requests\n",
    "from IPython.display import Image\n",
    "\n",
    "flags = {\n",
    "    \"ar\": \"https://www.worldometers.info/img/flags/sa-flag.gif\",\n",
    "    \"cz\": \"https://www.worldometers.info/img/flags/ez-flag.gif\",\n",
    "    \"de\": \"https://www.worldometers.info/img/flags/gm-flag.gif\",\n",
    "    \"dk\": \"https://www.worldometers.info/img/flags/da-flag.gif\",\n",
    "    \"en\": \"https://www.worldometers.info/img/flags/uk-flag.gif\",\n",
    "    \"es\": \"https://www.worldometers.info/img/flags/sp-flag.gif\",\n",
    "    \"fi\": \"https://www.worldometers.info/img/flags/fi-flag.gif\",\n",
    "    \"fr\": \"https://www.worldometers.info/img/flags/fr-flag.gif\",\n",
    "    \"he\": \"https://www.worldometers.info/img/flags/is-flag.gif\",\n",
    "    \"id\": \"https://www.worldometers.info/img/flags/id-flag.gif\",\n",
    "    \"it\": \"https://www.worldometers.info/img/flags/it-flag.gif\",\n",
    "    \"ja\": \"https://www.worldometers.info/img/flags/ja-flag.gif\",\n",
    "    \"ko\": \"https://www.worldometers.info/img/flags/ks-flag.gif\",\n",
    "    \"lt\": \"https://www.worldometers.info/img/flags/lh-flag.gif\",\n",
    "    \"lv\": \"https://www.worldometers.info/img/flags/lg-flag.gif\",\n",
    "    \"nl\": \"https://www.worldometers.info/img/flags/nl-flag.gif\",\n",
    "    \"no\": \"https://www.worldometers.info/img/flags/no-flag.gif\",\n",
    "    \"pl\": \"https://www.worldometers.info/img/flags/pl-flag.gif\",\n",
    "    \"pt\": \"https://www.worldometers.info/img/flags/po-flag.gif\",\n",
    "    \"ro\": \"https://www.worldometers.info/img/flags/ro-flag.gif\",\n",
    "    \"ru\": \"https://www.worldometers.info/img/flags/rs-flag.gif\",\n",
    "    \"sl\": \"https://www.worldometers.info/img/flags/si-flag.gif\",\n",
    "    \"sr\": \"https://www.worldometers.info/img/flags/ri-flag.gif\",\n",
    "    \"th\": \"https://www.worldometers.info/img/flags/th-flag.gif\",\n",
    "    \"tr\": \"https://www.worldometers.info/img/flags/tu-flag.gif\",\n",
    "    \"uk\": \"https://www.worldometers.info/img/flags/up-flag.gif\",\n",
    "    \"vi\": \"https://www.worldometers.info/img/flags/vm-flag.gif\",\n",
    "    # \"kn-ce\": \"https://www.worldometers.info/img/flags/ce-flag.gif\",\n",
    "    # \"kn-in\": \"https://www.worldometers.info/img/flags/in-flag.gif\",\n",
    "    # \"kn-np\": \"https://www.worldometers.info/img/flags/np-flag.gif\",\n",
    "    # \"kn-pk\": \"https://www.worldometers.info/img/flags/pk-flag.gif\",\n",
    "}\n",
    "\n",
    "Image(requests.get(flags[\"lv\"]).content)"
   ]
  }
 ],
 "metadata": {
  "kernelspec": {
   "display_name": "Python 3",
   "language": "python",
   "name": "python3"
  },
  "language_info": {
   "codemirror_mode": {
    "name": "ipython",
    "version": 3
   },
   "file_extension": ".py",
   "mimetype": "text/x-python",
   "name": "python",
   "nbconvert_exporter": "python",
   "pygments_lexer": "ipython3",
   "version": "3.8.5"
  }
 },
 "nbformat": 4,
 "nbformat_minor": 5
}
